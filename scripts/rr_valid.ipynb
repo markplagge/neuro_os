{
 "cells": [
  {
   "cell_type": "code",
   "execution_count": 8,
   "metadata": {
    "collapsed": true,
    "pycharm": {
     "name": "#%%\n"
    }
   },
   "outputs": [],
   "source": [
    "from enum import IntFlag\n",
    "\n",
    "\n",
    "class PROC_STATE(IntFlag):\n",
    "    WAITING = 1\n",
    "    RUNNING = 2\n",
    "    COMPLETE = 4\n",
    "    PRE_WAIT = 8\n",
    "    NO_OP = 0\n",
    "\n",
    "class SimpleProc:\n",
    "    def __init__(self,name, id,arrival,start,compute,cores):\n",
    "        self.name = name\n",
    "        self.id = id\n",
    "        self.arrival = arrival\n",
    "\n",
    "        self.compute = compute\n",
    "        self.cores = cores\n",
    "        self.current_time = 0\n",
    "        if self.arrival == 0:\n",
    "            self.state = PROC_STATE.WAITING\n",
    "        else:\n",
    "            self.state = PROC_STATE.PRE_WAIT\n",
    "procs = []\n",
    "procs.append(SimpleProc(\"Cifar\",1,0,0,4450,4038))\n",
    "procs.append(SimpleProc(\"SAR\",2,10,4450,1125,3038))\n",
    "procs.append(SimpleProc(\"Tonic\",3,100,5575,8,2))\n",
    "procs.append(SimpleProc(\"Saturation\",4,120,5583,81,1439))\n",
    "procs.append(SimpleProc(\"Cifar\",5,1000,5664,5325,4038))\n",
    "procs.append(SimpleProc(\"SAR\",6,1010,10989,1876,3038))\n",
    "procs.append(SimpleProc(\"Tonic\",7,1500,12865,7,2))\n",
    "procs.append(SimpleProc(\"Cifar\",8,2000,12872,5649,4038))\n",
    "procs.append(SimpleProc(\"SAR\",9,2010,18521,1196,3038))\n",
    "procs.append(SimpleProc(\"Tonic\",10,2100,19717,8,2))\n",
    "procs.append(SimpleProc(\"Saturation\",11,3000,19725,54,1091))\n",
    "\n",
    "import nengo_os\n",
    "iface = nengo_os.NemoNengoInterface(True,mode=1,rr_time_slice=50)\n",
    "for p in procs:\n",
    "    iface.add_process(p.id,p.cores,p.compute,p.arrival)\n",
    "iface.init_model()\n",
    "iface.generate_full_results(8000)"
   ]
  },
  {
   "cell_type": "code",
   "execution_count": 9,
   "outputs": [
    {
     "name": "stdout",
     "output_type": "stream",
     "text": [
      "Compiling Model\n",
      "Debug Print Mode is disabled\n",
      "Build finished in 0:01:42                                                      \n",
      "Optimization finished in 0:00:00                                               \n",
      "Construction finished in 0:00:02                                               \n",
      "Model compile complete\n"
     ]
    },
    {
     "name": "stderr",
     "output_type": "stream",
     "text": [
      "/Users/plaggm/anaconda3/envs/nengo/lib/python3.7/site-packages/nengo_dl/simulator.py:460: UserWarning: No GPU support detected. It is recommended that you install tensorflow-gpu (`pip install tensorflow-gpu`).\n",
      "  \"No GPU support detected. It is recommended that you \"\n",
      "/Users/plaggm/anaconda3/envs/nengo/lib/python3.7/site-packages/nengo/neurons.py:438: RuntimeWarning: divide by zero encountered in true_divide\n",
      "  self.tau_ref - self.tau_rc * np.log1p(1.0 / (gain * (intercepts - 1) - 1))\n",
      "/Users/plaggm/anaconda3/envs/nengo/lib/python3.7/site-packages/nengo/builder/ensemble.py:115: NengoWarning: Specifying the gains and biases for <Ensemble (unlabeled) at 0x7fbff8b5cc90> imposes a set of maximum firing rates and intercepts. Further specifying either max_rates or intercepts has no effect.\n",
      "  \"either max_rates or intercepts has no effect.\" % ens\n"
     ]
    }
   ],
   "source": [],
   "metadata": {
    "collapsed": false,
    "pycharm": {
     "name": "#%%\n"
    }
   }
  },
  {
   "cell_type": "code",
   "execution_count": 5,
   "outputs": [
    {
     "ename": "NameError",
     "evalue": "name 'iface' is not defined",
     "output_type": "error",
     "traceback": [
      "\u001B[0;31m---------------------------------------------------------------------------\u001B[0m",
      "\u001B[0;31mNameError\u001B[0m                                 Traceback (most recent call last)",
      "\u001B[0;32m<ipython-input-5-a62b4ba4ec8b>\u001B[0m in \u001B[0;36m<module>\u001B[0;34m\u001B[0m\n\u001B[0;32m----> 1\u001B[0;31m \u001B[0miface\u001B[0m\u001B[0;34m.\u001B[0m\u001B[0mmodel_init\u001B[0m\u001B[0;34m\u001B[0m\u001B[0;34m\u001B[0m\u001B[0m\n\u001B[0m",
      "\u001B[0;31mNameError\u001B[0m: name 'iface' is not defined"
     ]
    }
   ],
   "source": [],
   "metadata": {
    "collapsed": false,
    "pycharm": {
     "name": "#%%\n"
    }
   }
  },
  {
   "cell_type": "code",
   "execution_count": null,
   "outputs": [],
   "source": [],
   "metadata": {
    "collapsed": false,
    "pycharm": {
     "name": "#%%\n"
    }
   }
  }
 ],
 "metadata": {
  "kernelspec": {
   "display_name": "Python 3",
   "language": "python",
   "name": "python3"
  },
  "language_info": {
   "codemirror_mode": {
    "name": "ipython",
    "version": 2
   },
   "file_extension": ".py",
   "mimetype": "text/x-python",
   "name": "python",
   "nbconvert_exporter": "python",
   "pygments_lexer": "ipython2",
   "version": "2.7.6"
  }
 },
 "nbformat": 4,
 "nbformat_minor": 0
}