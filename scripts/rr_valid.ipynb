{
 "cells": [
  {
   "cell_type": "code",
   "execution_count": 1,
   "metadata": {
    "collapsed": true,
    "pycharm": {
     "name": "#%%\n"
    }
   },
   "outputs": [],
   "source": [
    "# %%\n",
    "import nengo_os\n",
    "from nengo_os import  ConventScheduler, NemoNengoInterface\n",
    "\n",
    "\n",
    "from nengo_os import SimpleProc, NemoNengoInterfaceBase\n",
    "\n",
    "# @functools.total_ordering\n",
    "# class CompareableRRProc(nengo_os.Process):\n",
    "#\n",
    "#     def __eq__(self, other):\n",
    "#         if self.status !=\n",
    "#         if self.status is other.status:\n",
    "#             return True\n",
    "#\n",
    "from nengo_os.rr_full import SimpleProc\n",
    "from operator import itemgetter\n",
    "\n",
    "\n",
    "def nengo_sim_init(procs):\n",
    "    iface = nengo_os.NemoNengoInterfaceBase(True, mode=1, rr_time_slice=50)\n",
    "    for p in procs:\n",
    "        iface.add_process(p.id, p.cores, p.compute, p.arrival)\n",
    "    return iface\n",
    "\n",
    "\n",
    "def nengo_sim_run(iface, end_time):\n",
    "    iface.init_model()\n",
    "    iface.generate_full_results(end_time)\n",
    "    return iface\n",
    "\n",
    "\n",
    "def interleave_procs():\n",
    "    procs = [SimpleProc(\"TEST1\", 0, 0, 0, 10, 50),\n",
    "             SimpleProc(\"TEST2\", 0, 2, 2, 10, 50),\n",
    "             SimpleProc(\"TEST3\", 0, 5, 5, 10, 50)]\n",
    "    return procs\n",
    "\n",
    "\n",
    "def interrupt_procs():\n",
    "    return [SimpleProc(\"TEST1\", 0, 0, 0, 10, 4000),\n",
    "            SimpleProc(\"TEST2\", 1, 2, 2, 10, 4000)]\n",
    "\n",
    "\n",
    "def schedule(processes, mode=\"FCFS\", total_cores=4096, time_slice=50, multiplexing=True):\n",
    "    return ConventScheduler(processes, mode, total_cores, time_slice, multiplexing)\n",
    "\n",
    "\n",
    "import pytest\n",
    "import tqdm\n",
    "\n",
    "\n",
    "def test_scheduler(pl=None):\n",
    "    proc_list = interleave_procs() if pl is None else pl\n",
    "    sch = schedule(proc_list, mode=\"RR\")\n",
    "    proc_0_run_times = []\n",
    "    proc_1_run_times = []\n",
    "    proc_1_pre_wait_times = []\n",
    "    proc_1_wait_times = []\n",
    "    assert (sch.current_time == 0)\n",
    "    for i in range(1, 36):\n",
    "        sch.scheduler_run_tick()\n",
    "        assert (sch.current_time == i)\n",
    "        proc_0_run_times.append(sch.queue.run_q[0].run_time)\n",
    "        if len(sch.queue.run_q) >= 2:\n",
    "            proc_1_run_times.append(sch.queue.run_q[1].run_time)\n",
    "        if i < 2:\n",
    "            assert (len(sch.queue.run_q) == 1)\n",
    "\n",
    "        elif i < 5:\n",
    "            assert (sch.queue.run_q[1].pre_wait_time == 2)\n",
    "            assert (len(sch.queue.run_q) == 2)\n",
    "\n",
    "        elif i == 50:\n",
    "            for p in sch.queue.run_q:\n",
    "                if p.current_state() != \"DONE\":\n",
    "                    assert (p.current_state() == \"DONE\")\n",
    "\n",
    "        if pl is None and len(sch.queue.run_q) > 0:\n",
    "            test_time = 10\n",
    "            assert (sch.queue.run_q[0].needed_time == test_time)\n",
    "\n",
    "    return sch\n",
    "\n",
    "\n",
    "\n",
    "\n",
    "\n",
    "class ProcSQL:\n",
    "    job_cols = [\"model_id\", \"arrival_time\", \"requested_run_time\"]\n",
    "    job_stat_cols = [\"job_id\",\"run_id\",\"pre_wait_time\",\"current_wait_time\",\"actual_start_time\",\"current_run_time\",\"current_scheduler_time\"]\n",
    "    #(job_id, run_id, pre_wait_time, current_wait_time, actual_start_time, current_run_time,current_scheduler_time)\n",
    "    #VALUES (null, null, null, null, null, null, null);\n",
    "\n",
    "    def __insert_job(self):\n",
    "        query = f\"INSERT INTO jobs (model_id, arrival_time, requested_run_time, task_id) values (?,?,?,?);\"\n",
    "        self.cur.execute(query,self.job_info)\n",
    "        self.job_id = self.cur.lastrowid\n",
    "        q1 = \"INSERT INTO run_job_list (job_id, run_id) VALUES (?,?);\"\n",
    "        self.cur.execute(q1,(self.job_id,self.runid))\n",
    "\n",
    "\n",
    "    def job_stats(self):\n",
    "        p = self.p\n",
    "        values =   [self.job_id, self.runid ,p.pre_wait_time, p.wait_time, p.process_began_run, p.run_time, p.tick_time]\n",
    "        query = f\"INSERT INTO run_job_stats (job_id, run_id, pre_wait_time, current_wait_time, actual_start_time, current_run_time,current_scheduler_time)\" \\\n",
    "                f\"values (?,?,?,?,?,?,?);\"\n",
    "        self.cur.execute(query,values)\n",
    "\n",
    "    def __init__(self,p,db_cur,task_id = 0, rid = 0):\n",
    "        self.job_info = [p.model_id, p.start_time, p.needed_time,task_id]\n",
    "        self.p = p\n",
    "        self.task_id = task_id\n",
    "        self.runid = rid\n",
    "        self.cur = db_cur\n",
    "        self.__insert_job()\n",
    "\n",
    "def generate_proc_sql(run_id, scheduler,cur):\n",
    "    job_data = []\n",
    "    i = 1\n",
    "    for p in scheduler.queue.wait_q:\n",
    "        job_stats_sql = ProcSQL(p,cur,i,run_id)\n",
    "        i += 1\n",
    "        job_stats_sql.job_stats()\n",
    "        job_data.append(job_stats_sql)\n",
    "        p.job_id = job_stats_sql.job_id\n",
    "    return job_data"
   ]
  },
  {
   "cell_type": "code",
   "execution_count": 2,
   "outputs": [],
   "source": [
    "### JOB EVENT GENERATION ###\n",
    "class EventTracker:\n",
    "\n",
    "    def state_change(self,old_state, state):\n",
    "        stx = old_state+state\n",
    "        if stx not in self.change_lookup.keys():\n",
    "            print(f\"{self.initial_state_list}\")\n",
    "        return self.id_from_typemap[self.change_lookup[stx]]\n",
    "\n",
    "    def no_chg(self,v):\n",
    "        nc_tv = self.no_chg_typemap[v]\n",
    "        sql_tp = self.id_from_typemap[nc_tv]\n",
    "        return sql_tp\n",
    "\n",
    "    def __init__(self, scheduler,run_id,cursor):\n",
    "        self.run_id = run_id\n",
    "        self.cur = cursor\n",
    "\n",
    "        self.proc_list = [proc for proc in scheduler.queue.wait_q]\n",
    "        self.initial_state_list = {proc.job_id:proc.current_state() for proc in self.proc_list}\n",
    "        self.updated_state_list = [s for s in self.initial_state_list]\n",
    "\n",
    "        done = \"done\"\n",
    "        interrupted = \"interrupted\"\n",
    "        pre_waiting = \"pre_waiting\"\n",
    "        proc_complete = \"proc_complete\"\n",
    "        running = \"running\"\n",
    "        start_running = \"start_running\"\n",
    "        start_waiting = \"start_waiting\"\n",
    "        waiting = \"waiting\"\n",
    "\n",
    "        sql_typemap = {15:interrupted,12:pre_waiting,16:proc_complete,10:running,14:start_running,13:start_waiting,11:waiting}\n",
    "        self.id_from_typemap = {v:k for k,v in sql_typemap.items()}\n",
    "        no_chg_typemap = {\"DONE\":done,\"WAITING\":waiting,\"RUNNING\":running,\"PRE_WAIT\":pre_waiting}\n",
    "        change_lookup = {\n",
    "            #old, new, type\n",
    "            \"PRE_WAIT\" \"WAITING\" : \"start_waiting\",\n",
    "            \"PRE_WAIT\" \"RUNNING\" : \"start_running\",\n",
    "            \"WAITING\"  \"RUNNING\" : \"start_running\",\n",
    "            \"RUNNING\"  \"WAITING\" : \"interrupted\",\n",
    "            \"RUNNING\"  \"DONE\"    : \"proc_complete\"\n",
    "        }\n",
    "        self.sql_typemap = sql_typemap\n",
    "        self.no_chg_typemap = no_chg_typemap\n",
    "        self.change_lookup = change_lookup\n",
    "\n",
    "\n",
    "\n",
    "    def update(self, scheduler):\n",
    "        new_procs = [proc for proc in scheduler.queue.wait_q] + [proc for proc in scheduler.queue.run_q]\n",
    "        new_states = {proc.job_id:proc.current_state() for proc in new_procs}\n",
    "        event_time = scheduler.current_time\n",
    "        event_updates = []\n",
    "        for job_id, state in new_states.items():\n",
    "            old_state = self.initial_state_list[job_id]\n",
    "            if old_state != state:\n",
    "                job_event_id = self.state_change(old_state, state)\n",
    "                query = \"INSERT INTO run_job_events (event_type, run, job, sched_event_time) \" \\\n",
    "                    \"values (?,?,?,?)\"\n",
    "                self.cur.execute(query,(job_event_id,self.run_id,job_id,event_time))\n",
    "        self.initial_state_list = new_states\n",
    "            # else:\n",
    "            #\n",
    "            #     job_event_id = self.no_chg(state)\n",
    "\n"
   ],
   "metadata": {
    "collapsed": false,
    "pycharm": {
     "name": "#%%\n"
    }
   }
  },
  {
   "cell_type": "markdown",
   "source": [
    "#### Paper Proc Test with 50 procs\n",
    "\n",
    "\n",
    "Data schema:\n",
    "- Table of Models\n",
    "- Table of Processes:\n",
    "- - (model_id, etc....)\n",
    "- Table of Process Events:\n",
    "- - (model_id, run_id, scheduler_time, event_id)\n",
    "- table of Event Types:\n",
    "- -0 event_id, name\n",
    "- table of proc_runs:\n",
    "- - run_id, model_id\n",
    "- table of run info\n",
    "- - run_id, sched_mode, rr_slice_value\n",
    "\n",
    "\n"
   ],
   "metadata": {
    "collapsed": false,
    "pycharm": {
     "name": "#%% md\n"
    }
   }
  },
  {
   "cell_type": "code",
   "execution_count": 3,
   "outputs": [],
   "source": [
    "import pandas as pd\n",
    "import numpy as np\n",
    "import sqlite3\n",
    "from pathlib import Path\n",
    "import os\n",
    "import shutil\n",
    "\n",
    "\n",
    "\n",
    "\n",
    "result_path = Path(\"./results\")\n",
    "template_db = result_path / \"run_result_template.sqlite\"\n",
    "result_db = result_path / \"run_result.sqlite\"\n",
    "backup_tp = \"./run_result_backup-*-.sqlite\"\n",
    "\n",
    "INIT_TEMPLATE = True\n"
   ],
   "metadata": {
    "collapsed": false,
    "pycharm": {
     "name": "#%%\n"
    }
   }
  },
  {
   "cell_type": "code",
   "execution_count": 4,
   "outputs": [],
   "source": [
    "if not result_db.exists():\n",
    "    shutil.copy(template_db, result_db)\n",
    "else:\n",
    "    num_bkps = 0\n",
    "    backup_list = []\n",
    "    for f in result_path.glob(backup_tp):\n",
    "        bpl = str(f.absolute().name).split(\"-\")\n",
    "        bpl[1] = int( bpl[1] )\n",
    "        backup_list.append( bpl)\n",
    "        #run_result_backup,*,.sqlite\n",
    "    if len(backup_list) > 0:\n",
    "        backup_list = sorted(backup_list, key=itemgetter(1))\n",
    "        num_bkps = max(map(lambda x: int(x[1]), backup_list))\n",
    "        num_bkps += 1\n",
    "\n",
    "    new_backup_name = backup_tp.replace(\"*\",str(num_bkps))\n",
    "    new_path = result_path / new_backup_name\n",
    "    shutil.move(result_db,new_path)\n",
    "    shutil.copy(new_path, result_db)\n",
    "\n"
   ],
   "metadata": {
    "collapsed": false,
    "pycharm": {
     "name": "#%%\n"
    }
   }
  },
  {
   "cell_type": "code",
   "execution_count": 5,
   "outputs": [],
   "source": [
    "conn = sqlite3.connect(result_db)\n",
    "cur = conn.cursor()\n"
   ],
   "metadata": {
    "collapsed": false,
    "pycharm": {
     "name": "#%%\n"
    }
   }
  },
  {
   "cell_type": "code",
   "source": [
    "#load run data\n",
    "model_data_file = Path( \"/Users/plaggm/dev/nemo-codes/config/paper_models.json\")\n",
    "sched_type = \"RR\"\n",
    "rr_ts = 100\n",
    "scheduler = ConventScheduler(mode=sched_type,total_cores=4096,time_slice=rr_ts,proc_js_file=str(model_data_file.absolute()))"
   ],
   "metadata": {
    "collapsed": false,
    "pycharm": {
     "name": "#%%\n"
    }
   },
   "execution_count": 6,
   "outputs": [
    {
     "name": "stdout",
     "output_type": "stream",
     "text": [
      "Loading procs from file: /Users/plaggm/dev/nemo-codes/config/paper_models.json\n",
      "LOADING /Users/plaggm/dev/nemo-codes/config/paper_models.json\n",
      "Debug Print Mode is disabled\n"
     ]
    }
   ]
  },
  {
   "cell_type": "code",
   "execution_count": 7,
   "outputs": [],
   "source": [
    "def init_run_in_sql(sched_type = sched_type,ts = rr_ts, nemo_stats = \"\"):\n",
    "    query = \"INSERT INTO runs (sched_type, rr_time_slice, nemo_stats) VALUES (?, ?, ?);\"\n",
    "    cur.execute(query, (sched_type,ts,nemo_stats))\n",
    "    id = cur.lastrowid\n",
    "    conn.commit()\n",
    "    return id"
   ],
   "metadata": {
    "collapsed": false,
    "pycharm": {
     "name": "#%%\n"
    }
   }
  },
  {
   "cell_type": "code",
   "execution_count": 8,
   "outputs": [
    {
     "data": {
      "text/plain": "1"
     },
     "execution_count": 8,
     "metadata": {},
     "output_type": "execute_result"
    }
   ],
   "source": [
    "run_id = init_run_in_sql(sched_type,rr_ts,\"\")\n",
    "run_id"
   ],
   "metadata": {
    "collapsed": false,
    "pycharm": {
     "name": "#%%\n"
    }
   }
  },
  {
   "cell_type": "code",
   "execution_count": 9,
   "outputs": [],
   "source": [
    "p = scheduler.queue.wait_q[0]"
   ],
   "metadata": {
    "collapsed": false,
    "pycharm": {
     "name": "#%%\n"
    }
   }
  },
  {
   "cell_type": "code",
   "execution_count": 10,
   "outputs": [],
   "source": [
    "## Start of system, create awesome stat objects\n",
    "job_data = generate_proc_sql(run_id,scheduler,cur)"
   ],
   "metadata": {
    "collapsed": false,
    "pycharm": {
     "name": "#%%\n"
    }
   }
  },
  {
   "cell_type": "code",
   "execution_count": 11,
   "outputs": [],
   "source": [
    "\n",
    "conn.commit()"
   ],
   "metadata": {
    "collapsed": false,
    "pycharm": {
     "name": "#%%\n"
    }
   }
  },
  {
   "cell_type": "code",
   "execution_count": 12,
   "outputs": [],
   "source": [
    "### RUN SCHEDULER AND UPDATE STATS!!!\n",
    "## RUN A COUPLE TIMES TO TEST\n",
    "evt_tracker = EventTracker(scheduler,run_id,cur)"
   ],
   "metadata": {
    "collapsed": false,
    "pycharm": {
     "name": "#%%\n"
    }
   }
  },
  {
   "cell_type": "code",
   "execution_count": 13,
   "outputs": [],
   "source": [
    "evt_tracker.update(scheduler)\n",
    "conn.commit()"
   ],
   "metadata": {
    "collapsed": false,
    "pycharm": {
     "name": "#%%\n"
    }
   }
  },
  {
   "cell_type": "code",
   "execution_count": 14,
   "outputs": [],
   "source": [
    "## RUN 1:\n",
    "import tqdm.notebook"
   ],
   "metadata": {
    "collapsed": false,
    "pycharm": {
     "name": "#%%\n"
    }
   }
  },
  {
   "cell_type": "code",
   "execution_count": 15,
   "outputs": [],
   "source": [
    "sttl = sum(pv.needed_time for pv in scheduler.queue.wait_q)"
   ],
   "metadata": {
    "collapsed": false,
    "pycharm": {
     "name": "#%%\n"
    }
   }
  },
  {
   "cell_type": "code",
   "execution_count": 16,
   "outputs": [],
   "source": [
    "sttl\n",
    "import json\n",
    "\"{time:1, wait:[1,2,3..] run:[]},...\"\n",
    "class Instruct:\n",
    "    def __init__(self):\n",
    "        self.ts = []\n",
    "        self.waits = []\n",
    "        self.runs = []\n",
    "    def add_instruction(self, t, wait, run):\n",
    "        self.ts.append(t)\n",
    "        self.waits.append(wait)\n",
    "        self.runs.append(run)\n",
    "\n",
    "    def to_json(self):\n",
    "        def entry(t,ws,rs):\n",
    "            itm = {\"time\":t,\"waits\":ws,\"runs\":rs}\n",
    "            return itm\n",
    "        entries = []\n",
    "        for i in range(len(self.ts)):\n",
    "            t = self.ts[i]\n",
    "            w = self.waits[i]\n",
    "            r = self.runs[i]\n",
    "            entries.append(entry(t,w,r))\n",
    "        return json.dumps(entries)\n",
    "\n",
    "def save_scheduler_instructions(sched,run_procs,wait_procs):\n",
    "    rp = []\n",
    "    wp = []\n",
    "    for p in sched.queue.run_q:\n",
    "        if p.current_state() == \"RUNNING\":\n",
    "            rp.append(p.job_id)\n",
    "    for p in sched.queue.wait_q:\n",
    "        wp.append(p.job_id)\n",
    "    rrb = run_procs\n",
    "    wwb = wait_procs\n",
    "    rrb.append(rp)\n",
    "    wwb.append(wp)\n",
    "    return (rrb,wwb)"
   ],
   "metadata": {
    "collapsed": false,
    "pycharm": {
     "name": "#%%\n"
    }
   }
  },
  {
   "cell_type": "code",
   "execution_count": 19,
   "outputs": [
    {
     "name": "stderr",
     "output_type": "stream",
     "text": [
      "  0%|          | 0/19725 [00:15<?, ?it/s]\n"
     ]
    },
    {
     "name": "stdout",
     "output_type": "stream",
     "text": [
      "{3: 'PRE_WAIT', 4: 'PRE_WAIT', 5: 'PRE_WAIT', 6: 'PRE_WAIT', 7: 'PRE_WAIT', 8: 'PRE_WAIT', 9: 'PRE_WAIT', 10: 'PRE_WAIT', 1: 'WAITING', 2: 'RUNNING'}\n"
     ]
    },
    {
     "ename": "KeyError",
     "evalue": "'RUNNINGPRE_WAIT'",
     "output_type": "error",
     "traceback": [
      "\u001B[0;31m---------------------------------------------------------------------------\u001B[0m",
      "\u001B[0;31mKeyError\u001B[0m                                  Traceback (most recent call last)",
      "\u001B[0;32m<ipython-input-19-c09de2f052ca>\u001B[0m in \u001B[0;36m<module>\u001B[0;34m\u001B[0m\n\u001B[1;32m      6\u001B[0m     \u001B[0mt\u001B[0m\u001B[0;34m.\u001B[0m\u001B[0mappend\u001B[0m\u001B[0;34m(\u001B[0m\u001B[0mi\u001B[0m\u001B[0;34m)\u001B[0m\u001B[0;34m\u001B[0m\u001B[0;34m\u001B[0m\u001B[0m\n\u001B[1;32m      7\u001B[0m     \u001B[0mscheduler\u001B[0m\u001B[0;34m.\u001B[0m\u001B[0mscheduler_run_tick\u001B[0m\u001B[0;34m(\u001B[0m\u001B[0;34m)\u001B[0m\u001B[0;34m\u001B[0m\u001B[0;34m\u001B[0m\u001B[0m\n\u001B[0;32m----> 8\u001B[0;31m     \u001B[0mevt_tracker\u001B[0m\u001B[0;34m.\u001B[0m\u001B[0mupdate\u001B[0m\u001B[0;34m(\u001B[0m\u001B[0mscheduler\u001B[0m\u001B[0;34m)\u001B[0m\u001B[0;34m\u001B[0m\u001B[0;34m\u001B[0m\u001B[0m\n\u001B[0m\u001B[1;32m      9\u001B[0m     \u001B[0;32mfor\u001B[0m \u001B[0mjd\u001B[0m \u001B[0;32min\u001B[0m \u001B[0mjob_data\u001B[0m\u001B[0;34m:\u001B[0m\u001B[0;34m\u001B[0m\u001B[0;34m\u001B[0m\u001B[0m\n\u001B[1;32m     10\u001B[0m         \u001B[0mjd\u001B[0m\u001B[0;34m.\u001B[0m\u001B[0mjob_stats\u001B[0m\u001B[0;34m(\u001B[0m\u001B[0;34m)\u001B[0m\u001B[0;34m\u001B[0m\u001B[0;34m\u001B[0m\u001B[0m\n",
      "\u001B[0;32m<ipython-input-2-551334f2871c>\u001B[0m in \u001B[0;36mupdate\u001B[0;34m(self, scheduler)\u001B[0m\n\u001B[1;32m     55\u001B[0m             \u001B[0mold_state\u001B[0m \u001B[0;34m=\u001B[0m \u001B[0mself\u001B[0m\u001B[0;34m.\u001B[0m\u001B[0minitial_state_list\u001B[0m\u001B[0;34m[\u001B[0m\u001B[0mjob_id\u001B[0m\u001B[0;34m]\u001B[0m\u001B[0;34m\u001B[0m\u001B[0;34m\u001B[0m\u001B[0m\n\u001B[1;32m     56\u001B[0m             \u001B[0;32mif\u001B[0m \u001B[0mold_state\u001B[0m \u001B[0;34m!=\u001B[0m \u001B[0mstate\u001B[0m\u001B[0;34m:\u001B[0m\u001B[0;34m\u001B[0m\u001B[0;34m\u001B[0m\u001B[0m\n\u001B[0;32m---> 57\u001B[0;31m                 \u001B[0mjob_event_id\u001B[0m \u001B[0;34m=\u001B[0m \u001B[0mself\u001B[0m\u001B[0;34m.\u001B[0m\u001B[0mstate_change\u001B[0m\u001B[0;34m(\u001B[0m\u001B[0mold_state\u001B[0m\u001B[0;34m,\u001B[0m \u001B[0mstate\u001B[0m\u001B[0;34m)\u001B[0m\u001B[0;34m\u001B[0m\u001B[0;34m\u001B[0m\u001B[0m\n\u001B[0m\u001B[1;32m     58\u001B[0m                 \u001B[0mquery\u001B[0m \u001B[0;34m=\u001B[0m \u001B[0;34m\"INSERT INTO run_job_events (event_type, run, job, sched_event_time) \"\u001B[0m\u001B[0;31m \u001B[0m\u001B[0;31m\\\u001B[0m\u001B[0;34m\u001B[0m\u001B[0;34m\u001B[0m\u001B[0m\n\u001B[1;32m     59\u001B[0m                     \u001B[0;34m\"values (?,?,?,?)\"\u001B[0m\u001B[0;34m\u001B[0m\u001B[0;34m\u001B[0m\u001B[0m\n",
      "\u001B[0;32m<ipython-input-2-551334f2871c>\u001B[0m in \u001B[0;36mstate_change\u001B[0;34m(self, old_state, state)\u001B[0m\n\u001B[1;32m      6\u001B[0m         \u001B[0;32mif\u001B[0m \u001B[0mstx\u001B[0m \u001B[0;32mnot\u001B[0m \u001B[0;32min\u001B[0m \u001B[0mself\u001B[0m\u001B[0;34m.\u001B[0m\u001B[0mchange_lookup\u001B[0m\u001B[0;34m.\u001B[0m\u001B[0mkeys\u001B[0m\u001B[0;34m(\u001B[0m\u001B[0;34m)\u001B[0m\u001B[0;34m:\u001B[0m\u001B[0;34m\u001B[0m\u001B[0;34m\u001B[0m\u001B[0m\n\u001B[1;32m      7\u001B[0m             \u001B[0mprint\u001B[0m\u001B[0;34m(\u001B[0m\u001B[0;34mf\"{self.initial_state_list}\"\u001B[0m\u001B[0;34m)\u001B[0m\u001B[0;34m\u001B[0m\u001B[0;34m\u001B[0m\u001B[0m\n\u001B[0;32m----> 8\u001B[0;31m         \u001B[0;32mreturn\u001B[0m \u001B[0mself\u001B[0m\u001B[0;34m.\u001B[0m\u001B[0mid_from_typemap\u001B[0m\u001B[0;34m[\u001B[0m\u001B[0mself\u001B[0m\u001B[0;34m.\u001B[0m\u001B[0mchange_lookup\u001B[0m\u001B[0;34m[\u001B[0m\u001B[0mstx\u001B[0m\u001B[0;34m]\u001B[0m\u001B[0;34m]\u001B[0m\u001B[0;34m\u001B[0m\u001B[0;34m\u001B[0m\u001B[0m\n\u001B[0m\u001B[1;32m      9\u001B[0m \u001B[0;34m\u001B[0m\u001B[0m\n\u001B[1;32m     10\u001B[0m     \u001B[0;32mdef\u001B[0m \u001B[0mno_chg\u001B[0m\u001B[0;34m(\u001B[0m\u001B[0mself\u001B[0m\u001B[0;34m,\u001B[0m\u001B[0mv\u001B[0m\u001B[0;34m)\u001B[0m\u001B[0;34m:\u001B[0m\u001B[0;34m\u001B[0m\u001B[0;34m\u001B[0m\u001B[0m\n",
      "\u001B[0;31mKeyError\u001B[0m: 'RUNNINGPRE_WAIT'"
     ]
    }
   ],
   "source": [
    "t = []\n",
    "wp = []\n",
    "rp = []\n",
    "for i in tqdm.tqdm(range(sttl)):\n",
    "    rp,wp = save_scheduler_instructions(scheduler, rp,wp)\n",
    "    t.append(i)\n",
    "    scheduler.scheduler_run_tick()\n",
    "    evt_tracker.update(scheduler)\n",
    "    for jd in job_data:\n",
    "        jd.job_stats()\n",
    "conn.commit()"
   ],
   "metadata": {
    "collapsed": false,
    "pycharm": {
     "name": "#%%\n"
    }
   }
  },
  {
   "cell_type": "code",
   "execution_count": 47,
   "outputs": [],
   "source": [
    "inst = Instruct()\n",
    "for tt in t:\n",
    "    wwp = wp[tt]\n",
    "    rrp = rp[tt]\n",
    "    inst.add_instruction(t,wwp,rrp)"
   ],
   "metadata": {
    "collapsed": false,
    "pycharm": {
     "name": "#%%\n"
    }
   }
  },
  {
   "cell_type": "code",
   "execution_count": 48,
   "outputs": [],
   "source": [
    "jdt = inst.to_json()"
   ],
   "metadata": {
    "collapsed": false,
    "pycharm": {
     "name": "#%%\n"
    }
   }
  },
  {
   "cell_type": "code",
   "execution_count": 132,
   "outputs": [],
   "source": [
    "conn.commit()"
   ],
   "metadata": {
    "collapsed": false,
    "pycharm": {
     "name": "#%%\n"
    }
   }
  },
  {
   "cell_type": "code",
   "execution_count": null,
   "outputs": [],
   "source": [],
   "metadata": {
    "collapsed": false,
    "pycharm": {
     "name": "#%%\n"
    }
   }
  }
 ],
 "metadata": {
  "kernelspec": {
   "display_name": "Python 3",
   "language": "python",
   "name": "python3"
  },
  "language_info": {
   "codemirror_mode": {
    "name": "ipython",
    "version": 2
   },
   "file_extension": ".py",
   "mimetype": "text/x-python",
   "name": "python",
   "nbconvert_exporter": "python",
   "pygments_lexer": "ipython2",
   "version": "2.7.6"
  }
 },
 "nbformat": 4,
 "nbformat_minor": 0
}