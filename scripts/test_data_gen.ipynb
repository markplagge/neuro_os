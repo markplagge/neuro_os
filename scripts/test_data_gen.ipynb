{
 "cells": [
  {
   "cell_type": "code",
   "execution_count": null,
   "metadata": {
    "collapsed": true
   },
   "outputs": [],
   "source": [
    "import rr_full"
   ]
  },
  {
   "cell_type": "code",
   "execution_count": 1,
   "outputs": [],
   "source": [
    "from rr_full import SimulatedScheduler"
   ],
   "metadata": {
    "collapsed": false,
    "pycharm": {
     "name": "#%%\n"
    }
   }
  },
  {
   "cell_type": "code",
   "execution_count": 2,
   "outputs": [
    {
     "name": "stdout",
     "output_type": "stream",
     "text": [
      "LOC\t| ST\t| NC\t| NT\n",
      "---------------------------------------\n",
      "0\t| 0\t| 3578\t| 1\t| \n",
      "1\t| 1\t| 4020\t| 24\t| \n",
      "2\t| 2\t| 3679\t| 32\t| \n",
      "3\t| 3\t| 959\t| 1\t| \n",
      "4\t| 26\t| 3544\t| 26\t| \n",
      "5\t| 6\t| 3174\t| 12\t| \n",
      "6\t| 16\t| 1772\t| 1\t| \n",
      "7\t| 4\t| 844\t| 4\t| \n",
      "8\t| 11\t| 1682\t| 22\t| \n",
      "9\t| 8\t| 767\t| 1\t| \n",
      "10\n",
      "-\n",
      "1\n",
      "0\n",
      "Build finished in 0:00:00                                                      \n",
      "Optimization finished in 0:00:00                                               \n",
      "Construction finished in 0:00:02                                               \n"
     ]
    },
    {
     "name": "stderr",
     "output_type": "stream",
     "text": [
      "/Users/plaggm/anaconda3/envs/nengo/lib/python3.7/site-packages/nengo_dl/simulator.py:460: UserWarning: No GPU support detected. It is recommended that you install tensorflow-gpu (`pip install tensorflow-gpu`).\n",
      "  \"No GPU support detected. It is recommended that you \"\n"
     ]
    }
   ],
   "source": [
    "system = SimulatedScheduler()"
   ],
   "metadata": {
    "collapsed": false,
    "pycharm": {
     "name": "#%%\n"
    }
   }
  },
  {
   "cell_type": "code",
   "execution_count": 3,
   "outputs": [
    {
     "name": "stdout",
     "output_type": "stream",
     "text": [
      "|#                            Simulating                              | 0:00:00epoc_diff:1 | last_active: 0|top_size:3578 | waiting_q_size: 10 | wait_time: 0\n",
      "|                   #         Simulating                              | 0:00:01------- [1.0975069]\n",
      "PMAN x:[1.0975069]|adder :0\n",
      "add_new_proc: 1.0,[1.0975069] \n",
      "[1, 4020]\n",
      "[-2, 4020]\n",
      "Simulation finished in 0:00:02                                                 \n"
     ]
    }
   ],
   "source": [
    "system.run(1)"
   ],
   "metadata": {
    "collapsed": false,
    "pycharm": {
     "name": "#%%\n"
    }
   }
  },
  {
   "cell_type": "code",
   "execution_count": 4,
   "outputs": [
    {
     "data": {
      "text/plain": "{1.0: {'epoch': 1,\n  'time': 1.0,\n  'wait_q': {0: {'wait_time': 0,\n    'run_time': 0,\n    'needed_time': 24,\n    'start_time': 1,\n    'current_run_time': 0,\n    'state': 'PRE_WAIT',\n    'model_id': 1},\n   1: {'wait_time': 0,\n    'run_time': 0,\n    'needed_time': 32,\n    'start_time': 2,\n    'current_run_time': 0,\n    'state': 'PRE_WAIT',\n    'model_id': 2},\n   2: {'wait_time': 0,\n    'run_time': 0,\n    'needed_time': 1,\n    'start_time': 3,\n    'current_run_time': 0,\n    'state': 'PRE_WAIT',\n    'model_id': 3},\n   3: {'wait_time': 0,\n    'run_time': 0,\n    'needed_time': 26,\n    'start_time': 26,\n    'current_run_time': 0,\n    'state': 'PRE_WAIT',\n    'model_id': 4},\n   4: {'wait_time': 0,\n    'run_time': 0,\n    'needed_time': 12,\n    'start_time': 6,\n    'current_run_time': 0,\n    'state': 'PRE_WAIT',\n    'model_id': 5},\n   5: {'wait_time': 0,\n    'run_time': 0,\n    'needed_time': 1,\n    'start_time': 16,\n    'current_run_time': 0,\n    'state': 'PRE_WAIT',\n    'model_id': 6},\n   6: {'wait_time': 0,\n    'run_time': 0,\n    'needed_time': 4,\n    'start_time': 4,\n    'current_run_time': 0,\n    'state': 'PRE_WAIT',\n    'model_id': 7},\n   7: {'wait_time': 0,\n    'run_time': 0,\n    'needed_time': 22,\n    'start_time': 11,\n    'current_run_time': 0,\n    'state': 'PRE_WAIT',\n    'model_id': 8},\n   8: {'wait_time': 0,\n    'run_time': 0,\n    'needed_time': 1,\n    'start_time': 8,\n    'current_run_time': 0,\n    'state': 'PRE_WAIT',\n    'model_id': 9}},\n  'run_q': {0: {'wait_time': 0,\n    'run_time': 0,\n    'needed_time': 1,\n    'start_time': 1,\n    'current_run_time': 0,\n    'state': 'RUNNING',\n    'model_id': 0}}}}"
     },
     "execution_count": 4,
     "metadata": {},
     "output_type": "execute_result"
    }
   ],
   "source": [
    "system.queue_nodes.dict_stats"
   ],
   "metadata": {
    "collapsed": false,
    "pycharm": {
     "name": "#%%\n"
    }
   }
  },
  {
   "cell_type": "code",
   "execution_count": 5,
   "outputs": [
    {
     "name": "stdout",
     "output_type": "stream",
     "text": [
      "[<rr_full.Process object at 0x7fade903fd90>]\n"
     ]
    }
   ],
   "source": [
    "system.queue_nodes.run_pq\n"
   ],
   "metadata": {
    "collapsed": false,
    "pycharm": {
     "name": "#%%\n"
    }
   }
  },
  {
   "cell_type": "code",
   "execution_count": null,
   "outputs": [],
   "source": [
    "system.run(10)"
   ],
   "metadata": {
    "collapsed": false,
    "pycharm": {
     "name": "#%%\n"
    }
   }
  },
  {
   "cell_type": "code",
   "execution_count": 7,
   "outputs": [],
   "source": [
    "import json\n",
    "import pandas as pd"
   ],
   "metadata": {
    "collapsed": false,
    "pycharm": {
     "name": "#%%\n"
    }
   }
  },
  {
   "cell_type": "code",
   "execution_count": 30,
   "outputs": [],
   "source": [
    "dc_dat = json.load(open(\"test_stats.json\",'r'))"
   ],
   "metadata": {
    "collapsed": false,
    "pycharm": {
     "name": "#%%\n"
    }
   }
  },
  {
   "cell_type": "code",
   "execution_count": 31,
   "outputs": [],
   "source": [
    "\n",
    "def stats_parse(dict_dat):\n",
    "    per_epoch_wait = []\n",
    "    per_epoch_run  = []\n",
    "    for t,val in dict_dat.items():\n",
    "        for  wq_i in val['wait_q']:\n",
    "            per_epoch_wait.append(wq_i)\n",
    "        for  rq_i in val['run_q']:\n",
    "            per_epoch_run.append(rq_i)\n",
    "    return per_epoch_wait, per_epoch_run"
   ],
   "metadata": {
    "collapsed": false,
    "pycharm": {
     "name": "#%%\n"
    }
   }
  },
  {
   "cell_type": "code",
   "execution_count": 32,
   "outputs": [],
   "source": [
    "pew, per = stats_parse(dc_dat)"
   ],
   "metadata": {
    "collapsed": false,
    "pycharm": {
     "name": "#%%\n"
    }
   }
  },
  {
   "cell_type": "code",
   "execution_count": 21,
   "outputs": [],
   "source": [
    "for t, val in dc_dat.items():\n",
    "    pass\n",
    "ex = val['wait_q']['0']\n",
    "ex['epoch'] = t"
   ],
   "metadata": {
    "collapsed": false,
    "pycharm": {
     "name": "#%%\n"
    }
   }
  },
  {
   "cell_type": "code",
   "execution_count": 34,
   "outputs": [],
   "source": [
    "test_v = json.load(open('ex_c.json','r'))"
   ],
   "metadata": {
    "collapsed": false,
    "pycharm": {
     "name": "#%%\n"
    }
   }
  },
  {
   "cell_type": "code",
   "execution_count": null,
   "outputs": [],
   "source": [],
   "metadata": {
    "collapsed": false,
    "pycharm": {
     "name": "#%%\n"
    }
   }
  }
 ],
 "metadata": {
  "kernelspec": {
   "display_name": "Python 3",
   "language": "python",
   "name": "python3"
  },
  "language_info": {
   "codemirror_mode": {
    "name": "ipython",
    "version": 2
   },
   "file_extension": ".py",
   "mimetype": "text/x-python",
   "name": "python",
   "nbconvert_exporter": "python",
   "pygments_lexer": "ipython2",
   "version": "2.7.6"
  }
 },
 "nbformat": 4,
 "nbformat_minor": 0
}