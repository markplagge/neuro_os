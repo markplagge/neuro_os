{
 "cells": [
  {
   "cell_type": "code",
   "execution_count": 1,
   "metadata": {},
   "outputs": [
    {
     "name": "stdout",
     "output_type": "stream",
     "text": [
      "LOC\t| ST\t| NC\t| NT\n",
      "---------------------------------------\n",
      "0\t| 0\t| 1576\t| 2\t| \n",
      "0\t| 3\t| 1521\t| 2\t| \n",
      "0\t| 22\t| 3933\t| 2\t| \n",
      "0\t| 5\t| 141\t| 2\t| \n",
      "0\t| 6\t| 1689\t| 4\t| \n",
      "0\t| 16\t| 2562\t| 3\t| \n",
      "0\t| 14\t| 3703\t| 4\t| \n",
      "0\t| 19\t| 2898\t| 2\t| \n",
      "0\t| 28\t| 3750\t| 2\t| \n",
      "0\t| 23\t| 1102\t| 3\t| \n",
      "10\n",
      "-\n",
      "1\n",
      "0\n",
      "0\n"
     ]
    }
   ],
   "source": [
    "from rr_full import Process, populate_waiting, QueueNode,FCFS_sys\n",
    "import nengo\n",
    "from nengo_gui.ipython import IPythonViz\n",
    "from rr_full import model as rr_mdl"
   ]
  },
  {
   "cell_type": "code",
   "execution_count": null,
   "metadata": {},
   "outputs": [],
   "source": []
  }
 ],
 "metadata": {
  "kernelspec": {
   "display_name": "Python 3",
   "language": "python",
   "name": "python3"
  },
  "language_info": {
   "codemirror_mode": {
    "name": "ipython",
    "version": 3
   },
   "file_extension": ".py",
   "mimetype": "text/x-python",
   "name": "python",
   "nbconvert_exporter": "python",
   "pygments_lexer": "ipython3",
   "version": "3.7.6"
  }
 },
 "nbformat": 4,
 "nbformat_minor": 4
}
